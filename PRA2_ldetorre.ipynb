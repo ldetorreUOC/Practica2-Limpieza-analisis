{
 "cells": [
  {
   "cell_type": "markdown",
   "metadata": {
    "id": "YO1mZRrP4FT2"
   },
   "source": [
    "<p style=\"margin: 0; padding-top: 22px; text-align:left;\">M2.875 · Tipología y ciclo de vida de los datos · PRA2\n",
    "</p>\n",
    "<p style=\"margin: 0; text-align:left;\">2022-1 · Máster universitario en Ciencia de datos (Data science)</p>\n",
    "<p style=\"margin: 0; text-align:left; padding-button: 100px;\">Estudios de Informática, Multimedia y Telecomunicación</p>\n",
    "<p style=\"margin: 0; text-align:left; padding-button: 100px; font-size:18px;\">Lucas de Torre Barrio</p>\n",
    "\n",
    "<div style=\"width:100%;\">&nbsp;</div>\n",
    "\n",
    "\n",
    "# Práctica 2: Limpieza y análisis de datos"
   ]
  },
  {
   "cell_type": "code",
   "execution_count": 1,
   "metadata": {
    "id": "8rXYszqtPC3X"
   },
   "outputs": [],
   "source": [
    "import pandas as pd\n",
    "from scipy import stats\n",
    "import numpy as np\n",
    "from sklearn.linear_model import LinearRegression\n",
    "from sklearn.model_selection import train_test_split\n",
    "import matplotlib.pyplot as plt"
   ]
  },
  {
   "cell_type": "code",
   "execution_count": 2,
   "metadata": {},
   "outputs": [],
   "source": [
    "df = pd.read_csv(\"winequality-red.csv\")"
   ]
  },
  {
   "cell_type": "markdown",
   "metadata": {
    "id": "TNeJCTqGN6M0"
   },
   "source": [
    "# 1. Descripción del dataset"
   ]
  },
  {
   "cell_type": "markdown",
   "metadata": {},
   "source": [
    "El dataset que vamos a estudiar es winequality-red.csv, obtenido en https://www.kaggle.com/uciml/red-wine-quality-cortez-et-al-2009, y contiene información sobre variantes de vinos rojos portugueses. Gracias a este dataset, podemos intenatr obtener las características más importantes de cara a que un vino rojo sea de alta calidad, lo cuál podría favorecer y abaratar este tipo de vinos de alta calidad.\n",
    "\n",
    "Este dataset contiene las siguientes columnas: fixed acidity, volatile acidity, citric acid, residual sugar, chlorides, free sulfur dioxide, total sulfur dioxide, density, pH, sulphates y alcohol. Además, tiene una última columna que es la calidad del vino (entre 0 y 10)."
   ]
  },
  {
   "cell_type": "markdown",
   "metadata": {
    "id": "HFZhc-3gh3BA"
   },
   "source": [
    "# 2. Integración y selección de los datos de interés a analizar"
   ]
  },
  {
   "cell_type": "markdown",
   "metadata": {},
   "source": [
    "Comenzamos observando algunas características del dataset:"
   ]
  },
  {
   "cell_type": "code",
   "execution_count": 3,
   "metadata": {
    "id": "kC_lb6hDNJD8",
    "outputId": "f4b1f116-301e-48f4-a5a3-034263314690",
    "scrolled": true
   },
   "outputs": [
    {
     "data": {
      "text/html": [
       "<div>\n",
       "<style scoped>\n",
       "    .dataframe tbody tr th:only-of-type {\n",
       "        vertical-align: middle;\n",
       "    }\n",
       "\n",
       "    .dataframe tbody tr th {\n",
       "        vertical-align: top;\n",
       "    }\n",
       "\n",
       "    .dataframe thead th {\n",
       "        text-align: right;\n",
       "    }\n",
       "</style>\n",
       "<table border=\"1\" class=\"dataframe\">\n",
       "  <thead>\n",
       "    <tr style=\"text-align: right;\">\n",
       "      <th></th>\n",
       "      <th>fixed acidity</th>\n",
       "      <th>volatile acidity</th>\n",
       "      <th>citric acid</th>\n",
       "      <th>residual sugar</th>\n",
       "      <th>chlorides</th>\n",
       "      <th>free sulfur dioxide</th>\n",
       "      <th>total sulfur dioxide</th>\n",
       "      <th>density</th>\n",
       "      <th>pH</th>\n",
       "      <th>sulphates</th>\n",
       "      <th>alcohol</th>\n",
       "      <th>quality</th>\n",
       "    </tr>\n",
       "  </thead>\n",
       "  <tbody>\n",
       "    <tr>\n",
       "      <th>count</th>\n",
       "      <td>1599.000000</td>\n",
       "      <td>1599.000000</td>\n",
       "      <td>1599.000000</td>\n",
       "      <td>1599.000000</td>\n",
       "      <td>1599.000000</td>\n",
       "      <td>1599.000000</td>\n",
       "      <td>1599.000000</td>\n",
       "      <td>1599.000000</td>\n",
       "      <td>1599.000000</td>\n",
       "      <td>1599.000000</td>\n",
       "      <td>1599.000000</td>\n",
       "      <td>1599.000000</td>\n",
       "    </tr>\n",
       "    <tr>\n",
       "      <th>mean</th>\n",
       "      <td>8.319637</td>\n",
       "      <td>0.527821</td>\n",
       "      <td>0.270976</td>\n",
       "      <td>2.538806</td>\n",
       "      <td>0.087467</td>\n",
       "      <td>15.874922</td>\n",
       "      <td>46.467792</td>\n",
       "      <td>0.996747</td>\n",
       "      <td>3.311113</td>\n",
       "      <td>0.658149</td>\n",
       "      <td>10.422983</td>\n",
       "      <td>5.636023</td>\n",
       "    </tr>\n",
       "    <tr>\n",
       "      <th>std</th>\n",
       "      <td>1.741096</td>\n",
       "      <td>0.179060</td>\n",
       "      <td>0.194801</td>\n",
       "      <td>1.409928</td>\n",
       "      <td>0.047065</td>\n",
       "      <td>10.460157</td>\n",
       "      <td>32.895324</td>\n",
       "      <td>0.001887</td>\n",
       "      <td>0.154386</td>\n",
       "      <td>0.169507</td>\n",
       "      <td>1.065668</td>\n",
       "      <td>0.807569</td>\n",
       "    </tr>\n",
       "    <tr>\n",
       "      <th>min</th>\n",
       "      <td>4.600000</td>\n",
       "      <td>0.120000</td>\n",
       "      <td>0.000000</td>\n",
       "      <td>0.900000</td>\n",
       "      <td>0.012000</td>\n",
       "      <td>1.000000</td>\n",
       "      <td>6.000000</td>\n",
       "      <td>0.990070</td>\n",
       "      <td>2.740000</td>\n",
       "      <td>0.330000</td>\n",
       "      <td>8.400000</td>\n",
       "      <td>3.000000</td>\n",
       "    </tr>\n",
       "    <tr>\n",
       "      <th>25%</th>\n",
       "      <td>7.100000</td>\n",
       "      <td>0.390000</td>\n",
       "      <td>0.090000</td>\n",
       "      <td>1.900000</td>\n",
       "      <td>0.070000</td>\n",
       "      <td>7.000000</td>\n",
       "      <td>22.000000</td>\n",
       "      <td>0.995600</td>\n",
       "      <td>3.210000</td>\n",
       "      <td>0.550000</td>\n",
       "      <td>9.500000</td>\n",
       "      <td>5.000000</td>\n",
       "    </tr>\n",
       "    <tr>\n",
       "      <th>50%</th>\n",
       "      <td>7.900000</td>\n",
       "      <td>0.520000</td>\n",
       "      <td>0.260000</td>\n",
       "      <td>2.200000</td>\n",
       "      <td>0.079000</td>\n",
       "      <td>14.000000</td>\n",
       "      <td>38.000000</td>\n",
       "      <td>0.996750</td>\n",
       "      <td>3.310000</td>\n",
       "      <td>0.620000</td>\n",
       "      <td>10.200000</td>\n",
       "      <td>6.000000</td>\n",
       "    </tr>\n",
       "    <tr>\n",
       "      <th>75%</th>\n",
       "      <td>9.200000</td>\n",
       "      <td>0.640000</td>\n",
       "      <td>0.420000</td>\n",
       "      <td>2.600000</td>\n",
       "      <td>0.090000</td>\n",
       "      <td>21.000000</td>\n",
       "      <td>62.000000</td>\n",
       "      <td>0.997835</td>\n",
       "      <td>3.400000</td>\n",
       "      <td>0.730000</td>\n",
       "      <td>11.100000</td>\n",
       "      <td>6.000000</td>\n",
       "    </tr>\n",
       "    <tr>\n",
       "      <th>max</th>\n",
       "      <td>15.900000</td>\n",
       "      <td>1.580000</td>\n",
       "      <td>1.000000</td>\n",
       "      <td>15.500000</td>\n",
       "      <td>0.611000</td>\n",
       "      <td>72.000000</td>\n",
       "      <td>289.000000</td>\n",
       "      <td>1.003690</td>\n",
       "      <td>4.010000</td>\n",
       "      <td>2.000000</td>\n",
       "      <td>14.900000</td>\n",
       "      <td>8.000000</td>\n",
       "    </tr>\n",
       "  </tbody>\n",
       "</table>\n",
       "</div>"
      ],
      "text/plain": [
       "       fixed acidity  volatile acidity  citric acid  residual sugar  \\\n",
       "count    1599.000000       1599.000000  1599.000000     1599.000000   \n",
       "mean        8.319637          0.527821     0.270976        2.538806   \n",
       "std         1.741096          0.179060     0.194801        1.409928   \n",
       "min         4.600000          0.120000     0.000000        0.900000   \n",
       "25%         7.100000          0.390000     0.090000        1.900000   \n",
       "50%         7.900000          0.520000     0.260000        2.200000   \n",
       "75%         9.200000          0.640000     0.420000        2.600000   \n",
       "max        15.900000          1.580000     1.000000       15.500000   \n",
       "\n",
       "         chlorides  free sulfur dioxide  total sulfur dioxide      density  \\\n",
       "count  1599.000000          1599.000000           1599.000000  1599.000000   \n",
       "mean      0.087467            15.874922             46.467792     0.996747   \n",
       "std       0.047065            10.460157             32.895324     0.001887   \n",
       "min       0.012000             1.000000              6.000000     0.990070   \n",
       "25%       0.070000             7.000000             22.000000     0.995600   \n",
       "50%       0.079000            14.000000             38.000000     0.996750   \n",
       "75%       0.090000            21.000000             62.000000     0.997835   \n",
       "max       0.611000            72.000000            289.000000     1.003690   \n",
       "\n",
       "                pH    sulphates      alcohol      quality  \n",
       "count  1599.000000  1599.000000  1599.000000  1599.000000  \n",
       "mean      3.311113     0.658149    10.422983     5.636023  \n",
       "std       0.154386     0.169507     1.065668     0.807569  \n",
       "min       2.740000     0.330000     8.400000     3.000000  \n",
       "25%       3.210000     0.550000     9.500000     5.000000  \n",
       "50%       3.310000     0.620000    10.200000     6.000000  \n",
       "75%       3.400000     0.730000    11.100000     6.000000  \n",
       "max       4.010000     2.000000    14.900000     8.000000  "
      ]
     },
     "execution_count": 3,
     "metadata": {},
     "output_type": "execute_result"
    }
   ],
   "source": [
    "df.describe()"
   ]
  },
  {
   "cell_type": "markdown",
   "metadata": {
    "colab": {
     "base_uri": "https://localhost:8080/"
    },
    "id": "8Dho4VBiNX22",
    "outputId": "6b3fb404-0d09-4736-cdb1-8a9077f2696c"
   },
   "source": [
    "Se observa que todos los campos pueden resultar importantes en la calidad del vino. Sin embargo, de todas las columnas, se observa que la densidad toma siempre valores muy similares, por lo que vamos a eliminar esa columna ya que es muy probable que no aporte demasiado de cara a un estudio posterior."
   ]
  },
  {
   "cell_type": "code",
   "execution_count": 4,
   "metadata": {
    "id": "-aQnhJf8OVia"
   },
   "outputs": [],
   "source": [
    "df = df.drop(['density'], axis=1)"
   ]
  },
  {
   "cell_type": "markdown",
   "metadata": {
    "id": "d457Myp0iAC6"
   },
   "source": [
    "# 3. Limpieza de datos"
   ]
  },
  {
   "cell_type": "markdown",
   "metadata": {},
   "source": [
    "## 3.1. Elementos nulos o vacíos"
   ]
  },
  {
   "cell_type": "code",
   "execution_count": 5,
   "metadata": {
    "id": "enL4QSw0CW2l"
   },
   "outputs": [
    {
     "data": {
      "text/plain": [
       "fixed acidity           0\n",
       "volatile acidity        0\n",
       "citric acid             0\n",
       "residual sugar          0\n",
       "chlorides               0\n",
       "free sulfur dioxide     0\n",
       "total sulfur dioxide    0\n",
       "pH                      0\n",
       "sulphates               0\n",
       "alcohol                 0\n",
       "quality                 0\n",
       "dtype: int64"
      ]
     },
     "execution_count": 5,
     "metadata": {},
     "output_type": "execute_result"
    }
   ],
   "source": [
    "df.isna().sum()"
   ]
  },
  {
   "cell_type": "markdown",
   "metadata": {
    "id": "8pr7D2GY6Olq",
    "outputId": "ed52c02e-b4cb-46fb-f0f4-a2b1ace25323"
   },
   "source": [
    "Se observa que no hay valores vacíos. Además, en este dataset, en caso de haber valores nulos (ceros), se corresponden con el valor de la columna, no con la ausencia del dato.\n",
    "\n",
    "Por tanto, nos encontramos con que el dataset no tiene valores nulos o vacíos."
   ]
  },
  {
   "cell_type": "markdown",
   "metadata": {},
   "source": [
    "## 3.1. Valores extremos"
   ]
  },
  {
   "cell_type": "code",
   "execution_count": 6,
   "metadata": {},
   "outputs": [],
   "source": [
    "def find_outliers_IQR(df, name):\n",
    "    q1=df.quantile(0.25)\n",
    "    q3=df.quantile(0.75)\n",
    "    IQR=q3-q1\n",
    "    outliers = df[((df<(q1-1.5*IQR)) | (df>(q3+1.5*IQR)))]\n",
    "    print(name + ': Num outliers = ' + str(len(outliers)) + '; Min outlier = ' + str(outliers.min()) + '; Max outlier = ' + str(outliers.max()))          \n",
    "    return outliers"
   ]
  },
  {
   "cell_type": "code",
   "execution_count": 7,
   "metadata": {
    "id": "a3rranrl6Olr",
    "outputId": "eaf8ab70-d86d-4d13-d8df-2bed4df253f8",
    "scrolled": true
   },
   "outputs": [
    {
     "name": "stdout",
     "output_type": "stream",
     "text": [
      "fixed acidity: Num outliers = 49; Min outlier = 12.4; Max outlier = 15.9\n",
      "volatile acidity: Num outliers = 19; Min outlier = 1.02; Max outlier = 1.58\n",
      "citric acid: Num outliers = 1; Min outlier = 1.0; Max outlier = 1.0\n",
      "residual sugar: Num outliers = 155; Min outlier = 3.7; Max outlier = 15.5\n",
      "chlorides: Num outliers = 112; Min outlier = 0.012; Max outlier = 0.611\n",
      "free sulfur dioxide: Num outliers = 30; Min outlier = 43.0; Max outlier = 72.0\n",
      "total sulfur dioxide: Num outliers = 55; Min outlier = 124.0; Max outlier = 289.0\n",
      "pH: Num outliers = 35; Min outlier = 2.74; Max outlier = 4.01\n",
      "sulphates: Num outliers = 59; Min outlier = 1.0; Max outlier = 2.0\n",
      "alcohol: Num outliers = 13; Min outlier = 13.566666666666698; Max outlier = 14.9\n",
      "quality: Num outliers = 28; Min outlier = 3; Max outlier = 8\n"
     ]
    }
   ],
   "source": [
    "for col in df.columns:\n",
    "    find_outliers_IQR(df[col], str(col))"
   ]
  },
  {
   "cell_type": "markdown",
   "metadata": {
    "id": "4DbqQDa16Olr"
   },
   "source": [
    "Vemos que hay campos con menos outliers (como citric acid, que solo tiene 1 outlier) y otros con una mayor cantidad (residual sugar tiene 155, casi un 10 por ciento).\n",
    "\n",
    "A continuación lo observamos gráficamente:"
   ]
  },
  {
   "cell_type": "code",
   "execution_count": 8,
   "metadata": {
    "scrolled": true
   },
   "outputs": [
    {
     "name": "stderr",
     "output_type": "stream",
     "text": [
      "C:\\Users\\lucto\\AppData\\Local\\Temp/ipykernel_25568/1847331964.py:6: UserWarning: Matplotlib is currently using module://matplotlib_inline.backend_inline, which is a non-GUI backend, so cannot show the figure.\n",
      "  fig.show()\n"
     ]
    },
    {
     "data": {
      "image/png": "[encoded data removed]",
      "text/plain": [
       "<Figure size 1800x720 with 10 Axes>"
      ]
     },
     "metadata": {
      "needs_background": "light"
     },
     "output_type": "display_data"
    }
   ],
   "source": [
    "fig, ax = plt.subplots(nrows=2, ncols=5, figsize=(25,10))\n",
    "for i in range(2):\n",
    "    for j in range(5):\n",
    "        ax[i][j].boxplot(df[df.columns[5*i + j]])\n",
    "        ax[i][j].set_title(df.columns[5*i + j])\n",
    "fig.show()"
   ]
  },
  {
   "cell_type": "markdown",
   "metadata": {},
   "source": [
    "Procedemos a eliminar los registros que contienen outliers para que no interfieran en el estudio:"
   ]
  },
  {
   "cell_type": "code",
   "execution_count": 9,
   "metadata": {},
   "outputs": [],
   "source": [
    "def drop_outliers_IQR(df):\n",
    "   q1=df.quantile(0.25)\n",
    "   q3=df.quantile(0.75)\n",
    "   IQR=q3-q1\n",
    "   not_outliers = df[~((df<(q1-1.5*IQR)) | (df>(q3+1.5*IQR)))]   \n",
    "   return not_outliers"
   ]
  },
  {
   "cell_type": "code",
   "execution_count": 10,
   "metadata": {},
   "outputs": [],
   "source": [
    "for col in df.columns:\n",
    "    df[col] = drop_outliers_IQR(df[col])\n",
    "df = df.dropna().reset_index()\n",
    "df = df.drop(['index'], axis=1)"
   ]
  },
  {
   "cell_type": "code",
   "execution_count": 11,
   "metadata": {},
   "outputs": [
    {
     "data": {
      "text/html": [
       "<div>\n",
       "<style scoped>\n",
       "    .dataframe tbody tr th:only-of-type {\n",
       "        vertical-align: middle;\n",
       "    }\n",
       "\n",
       "    .dataframe tbody tr th {\n",
       "        vertical-align: top;\n",
       "    }\n",
       "\n",
       "    .dataframe thead th {\n",
       "        text-align: right;\n",
       "    }\n",
       "</style>\n",
       "<table border=\"1\" class=\"dataframe\">\n",
       "  <thead>\n",
       "    <tr style=\"text-align: right;\">\n",
       "      <th></th>\n",
       "      <th>fixed acidity</th>\n",
       "      <th>volatile acidity</th>\n",
       "      <th>citric acid</th>\n",
       "      <th>residual sugar</th>\n",
       "      <th>chlorides</th>\n",
       "      <th>free sulfur dioxide</th>\n",
       "      <th>total sulfur dioxide</th>\n",
       "      <th>pH</th>\n",
       "      <th>sulphates</th>\n",
       "      <th>alcohol</th>\n",
       "      <th>quality</th>\n",
       "    </tr>\n",
       "  </thead>\n",
       "  <tbody>\n",
       "    <tr>\n",
       "      <th>count</th>\n",
       "      <td>1183.000000</td>\n",
       "      <td>1183.000000</td>\n",
       "      <td>1183.000000</td>\n",
       "      <td>1183.000000</td>\n",
       "      <td>1183.00000</td>\n",
       "      <td>1183.000000</td>\n",
       "      <td>1183.000000</td>\n",
       "      <td>1183.000000</td>\n",
       "      <td>1183.000000</td>\n",
       "      <td>1183.000000</td>\n",
       "      <td>1183.000000</td>\n",
       "    </tr>\n",
       "    <tr>\n",
       "      <th>mean</th>\n",
       "      <td>8.154861</td>\n",
       "      <td>0.523030</td>\n",
       "      <td>0.246145</td>\n",
       "      <td>2.183221</td>\n",
       "      <td>0.07852</td>\n",
       "      <td>15.010144</td>\n",
       "      <td>42.187658</td>\n",
       "      <td>3.325013</td>\n",
       "      <td>0.630913</td>\n",
       "      <td>10.358819</td>\n",
       "      <td>5.624683</td>\n",
       "    </tr>\n",
       "    <tr>\n",
       "      <th>std</th>\n",
       "      <td>1.461065</td>\n",
       "      <td>0.164188</td>\n",
       "      <td>0.179567</td>\n",
       "      <td>0.441904</td>\n",
       "      <td>0.01434</td>\n",
       "      <td>8.795759</td>\n",
       "      <td>26.103762</td>\n",
       "      <td>0.131690</td>\n",
       "      <td>0.116071</td>\n",
       "      <td>0.972622</td>\n",
       "      <td>0.720359</td>\n",
       "    </tr>\n",
       "    <tr>\n",
       "      <th>min</th>\n",
       "      <td>5.100000</td>\n",
       "      <td>0.120000</td>\n",
       "      <td>0.000000</td>\n",
       "      <td>1.200000</td>\n",
       "      <td>0.04100</td>\n",
       "      <td>1.000000</td>\n",
       "      <td>6.000000</td>\n",
       "      <td>2.940000</td>\n",
       "      <td>0.330000</td>\n",
       "      <td>8.700000</td>\n",
       "      <td>4.000000</td>\n",
       "    </tr>\n",
       "    <tr>\n",
       "      <th>25%</th>\n",
       "      <td>7.100000</td>\n",
       "      <td>0.390000</td>\n",
       "      <td>0.080000</td>\n",
       "      <td>1.900000</td>\n",
       "      <td>0.06900</td>\n",
       "      <td>8.000000</td>\n",
       "      <td>22.000000</td>\n",
       "      <td>3.230000</td>\n",
       "      <td>0.550000</td>\n",
       "      <td>9.500000</td>\n",
       "      <td>5.000000</td>\n",
       "    </tr>\n",
       "    <tr>\n",
       "      <th>50%</th>\n",
       "      <td>7.800000</td>\n",
       "      <td>0.520000</td>\n",
       "      <td>0.240000</td>\n",
       "      <td>2.100000</td>\n",
       "      <td>0.07800</td>\n",
       "      <td>13.000000</td>\n",
       "      <td>36.000000</td>\n",
       "      <td>3.330000</td>\n",
       "      <td>0.610000</td>\n",
       "      <td>10.100000</td>\n",
       "      <td>6.000000</td>\n",
       "    </tr>\n",
       "    <tr>\n",
       "      <th>75%</th>\n",
       "      <td>9.000000</td>\n",
       "      <td>0.630000</td>\n",
       "      <td>0.390000</td>\n",
       "      <td>2.500000</td>\n",
       "      <td>0.08700</td>\n",
       "      <td>20.000000</td>\n",
       "      <td>56.000000</td>\n",
       "      <td>3.410000</td>\n",
       "      <td>0.700000</td>\n",
       "      <td>11.000000</td>\n",
       "      <td>6.000000</td>\n",
       "    </tr>\n",
       "    <tr>\n",
       "      <th>max</th>\n",
       "      <td>12.300000</td>\n",
       "      <td>1.005000</td>\n",
       "      <td>0.730000</td>\n",
       "      <td>3.600000</td>\n",
       "      <td>0.11900</td>\n",
       "      <td>42.000000</td>\n",
       "      <td>122.000000</td>\n",
       "      <td>3.680000</td>\n",
       "      <td>0.980000</td>\n",
       "      <td>13.500000</td>\n",
       "      <td>7.000000</td>\n",
       "    </tr>\n",
       "  </tbody>\n",
       "</table>\n",
       "</div>"
      ],
      "text/plain": [
       "       fixed acidity  volatile acidity  citric acid  residual sugar  \\\n",
       "count    1183.000000       1183.000000  1183.000000     1183.000000   \n",
       "mean        8.154861          0.523030     0.246145        2.183221   \n",
       "std         1.461065          0.164188     0.179567        0.441904   \n",
       "min         5.100000          0.120000     0.000000        1.200000   \n",
       "25%         7.100000          0.390000     0.080000        1.900000   \n",
       "50%         7.800000          0.520000     0.240000        2.100000   \n",
       "75%         9.000000          0.630000     0.390000        2.500000   \n",
       "max        12.300000          1.005000     0.730000        3.600000   \n",
       "\n",
       "        chlorides  free sulfur dioxide  total sulfur dioxide           pH  \\\n",
       "count  1183.00000          1183.000000           1183.000000  1183.000000   \n",
       "mean      0.07852            15.010144             42.187658     3.325013   \n",
       "std       0.01434             8.795759             26.103762     0.131690   \n",
       "min       0.04100             1.000000              6.000000     2.940000   \n",
       "25%       0.06900             8.000000             22.000000     3.230000   \n",
       "50%       0.07800            13.000000             36.000000     3.330000   \n",
       "75%       0.08700            20.000000             56.000000     3.410000   \n",
       "max       0.11900            42.000000            122.000000     3.680000   \n",
       "\n",
       "         sulphates      alcohol      quality  \n",
       "count  1183.000000  1183.000000  1183.000000  \n",
       "mean      0.630913    10.358819     5.624683  \n",
       "std       0.116071     0.972622     0.720359  \n",
       "min       0.330000     8.700000     4.000000  \n",
       "25%       0.550000     9.500000     5.000000  \n",
       "50%       0.610000    10.100000     6.000000  \n",
       "75%       0.700000    11.000000     6.000000  \n",
       "max       0.980000    13.500000     7.000000  "
      ]
     },
     "execution_count": 11,
     "metadata": {},
     "output_type": "execute_result"
    }
   ],
   "source": [
    "df.describe()"
   ]
  },
  {
   "cell_type": "markdown",
   "metadata": {
    "id": "Ry5uiuVywVb9"
   },
   "source": [
    "# 4. Análisis de los datos"
   ]
  },
  {
   "cell_type": "markdown",
   "metadata": {},
   "source": [
    "## 4.1. Selección de los grupos de datos"
   ]
  },
  {
   "cell_type": "markdown",
   "metadata": {},
   "source": [
    "Vamos ahora a crear los grupos que queremos comparar:"
   ]
  },
  {
   "cell_type": "code",
   "execution_count": 12,
   "metadata": {},
   "outputs": [],
   "source": [
    "# Agrupación por cantidad de alcohol\n",
    "df_poco_alcohol = df[df[\"alcohol\"] < 10]\n",
    "df_mucho_alcohol = df[df[\"alcohol\"] >= 10]"
   ]
  },
  {
   "cell_type": "markdown",
   "metadata": {},
   "source": [
    "## 4.2. Normalidad y homogeneidad de la varianza"
   ]
  },
  {
   "cell_type": "markdown",
   "metadata": {},
   "source": [
    "Comenzamos estudiando la normalidad de todas las columnas. para ello, usaremos el test de D'Agostino. Según este test, rechazaremos la hipóteis de normalidad si el p-valor no es alto:"
   ]
  },
  {
   "cell_type": "code",
   "execution_count": 13,
   "metadata": {},
   "outputs": [],
   "source": [
    "def test_normalidad(df, name):\n",
    "    k2, p_value = stats.normaltest(df)\n",
    "    print(name + ': p-valor = ' + str(p_value))          \n",
    "    return k2, p_value"
   ]
  },
  {
   "cell_type": "code",
   "execution_count": 14,
   "metadata": {
    "scrolled": false
   },
   "outputs": [
    {
     "name": "stdout",
     "output_type": "stream",
     "text": [
      "fixed acidity: p-valor = 1.0373021988954968e-19\n",
      "volatile acidity: p-valor = 0.00017750096958336746\n",
      "citric acid: p-valor = 8.367898713244399e-40\n",
      "residual sugar: p-valor = 1.1446552350879099e-15\n",
      "chlorides: p-valor = 0.003588635272551119\n",
      "free sulfur dioxide: p-valor = 6.89525104710122e-24\n",
      "total sulfur dioxide: p-valor = 9.734248826747923e-32\n",
      "pH: p-valor = 0.21758189120499988\n",
      "sulphates: p-valor = 2.8234951224625945e-15\n",
      "alcohol: p-valor = 2.498243247903692e-22\n",
      "quality: p-valor = 1.2343527241776946e-07\n"
     ]
    }
   ],
   "source": [
    "for col in df.columns:\n",
    "    test_normalidad(df[col], str(col))"
   ]
  },
  {
   "cell_type": "markdown",
   "metadata": {},
   "source": [
    "Como en todos los casos el p-valor es bajo, se observa que ninguna de las columnas sigue una distribución normal, salvo en el caso del pH. Observamos ahora los histogramas de cada variable para comprobar gráficamente la no normalidad de las variables salvo el pH:"
   ]
  },
  {
   "cell_type": "code",
   "execution_count": 15,
   "metadata": {},
   "outputs": [
    {
     "name": "stderr",
     "output_type": "stream",
     "text": [
      "C:\\Users\\lucto\\AppData\\Local\\Temp/ipykernel_25568/1541766106.py:6: UserWarning: Matplotlib is currently using module://matplotlib_inline.backend_inline, which is a non-GUI backend, so cannot show the figure.\n",
      "  fig.show()\n"
     ]
    },
    {
     "data": {
      "image/png": "[encoded data removed]",
      "text/plain": [
       "<Figure size 1800x720 with 10 Axes>"
      ]
     },
     "metadata": {
      "needs_background": "light"
     },
     "output_type": "display_data"
    }
   ],
   "source": [
    "fig, ax = plt.subplots(nrows=2, ncols=5, figsize=(25,10))\n",
    "for i in range(2):\n",
    "    for j in range(5):\n",
    "        ax[i][j].hist(df[df.columns[5*i + j]])\n",
    "        ax[i][j].set_title(df.columns[5*i + j])\n",
    "fig.show()"
   ]
  },
  {
   "cell_type": "markdown",
   "metadata": {},
   "source": [
    "Veamos si los datasets de df_poco_alcohol y df_mucho_alcohol presentan homogeneidad en sus varianzas mediante el test de Fligner-Killeen. En caso de obtener un alto p-valor, podremos asumir homogeneidad en las varianzas,"
   ]
  },
  {
   "cell_type": "code",
   "execution_count": 16,
   "metadata": {},
   "outputs": [
    {
     "data": {
      "text/plain": [
       "FlignerResult(statistic=336.9850978831471, pvalue=2.893817413166203e-75)"
      ]
     },
     "execution_count": 16,
     "metadata": {},
     "output_type": "execute_result"
    }
   ],
   "source": [
    "stats.fligner(df_poco_alcohol['alcohol'], df_mucho_alcohol['alcohol'])"
   ]
  },
  {
   "cell_type": "markdown",
   "metadata": {},
   "source": [
    "Vemos que no podemos asunir homogeneidad de las varianzas por el bajo valor de p. Esto tiene sentido, ya que la varianza en el primer dataframe es mucho menor que en el segundo:"
   ]
  },
  {
   "cell_type": "code",
   "execution_count": 17,
   "metadata": {
    "scrolled": true
   },
   "outputs": [
    {
     "name": "stdout",
     "output_type": "stream",
     "text": [
      "0.057402524613461264\n",
      "0.6280371921487059\n"
     ]
    }
   ],
   "source": [
    "print(str(np.var(df_poco_alcohol['alcohol'])))\n",
    "print(str(np.var(df_mucho_alcohol['alcohol'])))"
   ]
  },
  {
   "cell_type": "markdown",
   "metadata": {},
   "source": [
    "## 4.3. Aplicación de pruebas estadísticas para comparar los grupos de datos"
   ]
  },
  {
   "cell_type": "markdown",
   "metadata": {},
   "source": [
    "Vamos a estudiar la corelación de las variables con la variable quality:"
   ]
  },
  {
   "cell_type": "code",
   "execution_count": 18,
   "metadata": {},
   "outputs": [
    {
     "data": {
      "text/html": [
       "<div>\n",
       "<style scoped>\n",
       "    .dataframe tbody tr th:only-of-type {\n",
       "        vertical-align: middle;\n",
       "    }\n",
       "\n",
       "    .dataframe tbody tr th {\n",
       "        vertical-align: top;\n",
       "    }\n",
       "\n",
       "    .dataframe thead th {\n",
       "        text-align: right;\n",
       "    }\n",
       "</style>\n",
       "<table border=\"1\" class=\"dataframe\">\n",
       "  <thead>\n",
       "    <tr style=\"text-align: right;\">\n",
       "      <th></th>\n",
       "      <th>fixed acidity</th>\n",
       "      <th>volatile acidity</th>\n",
       "      <th>citric acid</th>\n",
       "      <th>residual sugar</th>\n",
       "      <th>chlorides</th>\n",
       "      <th>free sulfur dioxide</th>\n",
       "      <th>total sulfur dioxide</th>\n",
       "      <th>pH</th>\n",
       "      <th>sulphates</th>\n",
       "      <th>alcohol</th>\n",
       "      <th>quality</th>\n",
       "    </tr>\n",
       "  </thead>\n",
       "  <tbody>\n",
       "    <tr>\n",
       "      <th>quality</th>\n",
       "      <td>0.110413</td>\n",
       "      <td>-0.34642</td>\n",
       "      <td>0.209742</td>\n",
       "      <td>0.005315</td>\n",
       "      <td>-0.192563</td>\n",
       "      <td>-0.004206</td>\n",
       "      <td>-0.204562</td>\n",
       "      <td>-0.058632</td>\n",
       "      <td>0.411164</td>\n",
       "      <td>0.491414</td>\n",
       "      <td>1.0</td>\n",
       "    </tr>\n",
       "  </tbody>\n",
       "</table>\n",
       "</div>"
      ],
      "text/plain": [
       "         fixed acidity  volatile acidity  citric acid  residual sugar  \\\n",
       "quality       0.110413          -0.34642     0.209742        0.005315   \n",
       "\n",
       "         chlorides  free sulfur dioxide  total sulfur dioxide        pH  \\\n",
       "quality  -0.192563            -0.004206             -0.204562 -0.058632   \n",
       "\n",
       "         sulphates   alcohol  quality  \n",
       "quality   0.411164  0.491414      1.0  "
      ]
     },
     "execution_count": 18,
     "metadata": {},
     "output_type": "execute_result"
    }
   ],
   "source": [
    "df.corr(method='pearson')[-1:]"
   ]
  },
  {
   "cell_type": "markdown",
   "metadata": {},
   "source": [
    "Vemos que la correlación más alta en valor absoluto la tiene el alcohol. Veamos ahora en los grupos que hemos creado, qué correlación tienen el alcohol y la calidad."
   ]
  },
  {
   "cell_type": "code",
   "execution_count": 19,
   "metadata": {},
   "outputs": [
    {
     "data": {
      "text/plain": [
       "quality    0.062209\n",
       "Name: alcohol, dtype: float64"
      ]
     },
     "execution_count": 19,
     "metadata": {},
     "output_type": "execute_result"
    }
   ],
   "source": [
    "df_poco_alcohol.corr(method='pearson')[-1:]['alcohol']"
   ]
  },
  {
   "cell_type": "code",
   "execution_count": 20,
   "metadata": {},
   "outputs": [
    {
     "data": {
      "text/plain": [
       "quality    0.367707\n",
       "Name: alcohol, dtype: float64"
      ]
     },
     "execution_count": 20,
     "metadata": {},
     "output_type": "execute_result"
    }
   ],
   "source": [
    "df_mucho_alcohol.corr(method='pearson')[-1:]['alcohol']"
   ]
  },
  {
   "cell_type": "markdown",
   "metadata": {},
   "source": [
    "Llama mucho la atención como, en el grupo de mucho alcohol, el alcohol tiene mucha más correlación con la calidad que en el grupo de poco alcohol.\n",
    "\n",
    "Procedemos ahora a crear dos modelos de regresión, uno usando solo el alcohol y otro usando volatile acidity, la segunda variable con mayor correlación:"
   ]
  },
  {
   "cell_type": "code",
   "execution_count": 21,
   "metadata": {},
   "outputs": [
    {
     "name": "stdout",
     "output_type": "stream",
     "text": [
      "Coeficiente de determinación R^2: 0.18750855701445945\n",
      "Coeficiente de determinación R^2: 0.05727990452006937\n"
     ]
    }
   ],
   "source": [
    "X_train_1, X_test_1, y_train_1, y_test_1 = train_test_split(\n",
    "                                        np.array(df['alcohol']).reshape(-1,1),\n",
    "                                        np.array(df['quality']).reshape(-1,1),\n",
    "                                        train_size   = 0.8, random_state = 1234, shuffle = True)\n",
    "X_train_2, X_test_2, y_train_2, y_test_2 = train_test_split(\n",
    "                                        np.array(df['volatile acidity']).reshape(-1,1),\n",
    "                                        np.array(df['quality']).reshape(-1,1),\n",
    "                                        train_size   = 0.8, random_state = 1234, shuffle = True) \n",
    "regr_1 = LinearRegression()\n",
    "regr_2 = LinearRegression() \n",
    "regr_1.fit(X_train_1, y_train_1)\n",
    "regr_2.fit(X_train_2, y_train_2)\n",
    "\n",
    "print(\"Coeficiente de determinación R^2:\", regr_1.score(X_test_1, y_test_1))\n",
    "print(\"Coeficiente de determinación R^2:\", regr_2.score(X_test_2, y_test_2))"
   ]
  },
  {
   "cell_type": "markdown",
   "metadata": {},
   "source": [
    "Observamos que es mejor el modelo que utiliza el alcohol en lugar del volatile acidity, ya que tiene un mayor coeficiente de determinación."
   ]
  },
  {
   "cell_type": "markdown",
   "metadata": {},
   "source": [
    "# 6. Resolución del problema"
   ]
  },
  {
   "cell_type": "markdown",
   "metadata": {},
   "source": [
    "Hemos visto que la variable que más influye en la calidad del vino es el alcohol. Además, también hemos comprobado que esta variable es más influyente en el caso de que la cantidad de alcohol sea superior a 10.\n",
    "\n",
    "Sin embargo, hemos comprobado que no es suficiente para poder determinar la calidad del vino. Probablemente, una combinación más compleja incluyendo alguno de los ácidos o sulfuros permitiría conseguir un modelo más preciso de cara a saber la calidad de un vino en base a sus componentes."
   ]
  }
 ],
 "metadata": {
  "colab": {
   "collapsed_sections": [
    "YO1mZRrP4FT2"
   ],
   "name": "2021-2_M2.875_PEC3_Enunciado.ipynb",
   "provenance": []
  },
  "kernelspec": {
   "display_name": "Python 3 (ipykernel)",
   "language": "python",
   "name": "python3"
  },
  "language_info": {
   "codemirror_mode": {
    "name": "ipython",
    "version": 3
   },
   "file_extension": ".py",
   "mimetype": "text/x-python",
   "name": "python",
   "nbconvert_exporter": "python",
   "pygments_lexer": "ipython3",
   "version": "3.9.7"
  }
 },
 "nbformat": 4,
 "nbformat_minor": 1
}
